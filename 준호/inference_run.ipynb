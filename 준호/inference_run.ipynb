{
 "cells": [
  {
   "cell_type": "code",
   "execution_count": null,
   "metadata": {
    "collapsed": true
   },
   "outputs": [],
   "source": []
  },
  {
   "cell_type": "markdown",
   "source": [
    "## Intervertebral Disc Segmentation Inference"
   ],
   "metadata": {
    "collapsed": false
   }
  },
  {
   "cell_type": "markdown",
   "source": [
    "* Total Case : 000 Case\n",
    "* Dataset come from Multiple Hospitals \n",
    "* Base Network : U-Net 2D\n",
    "* Two Dataset will be used. (non-image processed vs pixel space resampling)\n",
    "* Future Test Network : U-Net 3D, Deeplab V3, ETC...\n",
    "* Using Keras with backend Tensorflow\n",
    "* Project Purpose : Segmentation performance comparison of various algorithms and preprocessing methods.\n",
    "* Performance Metrics : Dice score, IoU(Intersection over Union)"
   ],
   "metadata": {
    "collapsed": false
   }
  },
  {
   "cell_type": "markdown",
   "source": [
    "## Whole Import"
   ],
   "metadata": {
    "collapsed": false,
    "pycharm": {
     "name": "#%% md\n"
    }
   }
  },
  {
   "cell_type": "code",
   "execution_count": null,
   "outputs": [],
   "source": [
    "from time import time\n",
    "import os\n",
    "import numpy as np\n",
    "import cv2\n",
    "from sklearn.model_selection import KFold\n",
    "import tensorflow as tf\n",
    "from tensorflow.keras.callbacks import ModelCheckpoint\n",
    "from tensorflow.keras.layers import Input, Activation\n",
    "from tensorflow.keras.optimizers import Adam, RMSprop, Nadam\n",
    "from tensorflow.keras.models import Model, load_model\n",
    "from tensorflow.keras.layers import Conv2D, MaxPooling2D, BatchNormalization, Conv2DTranspose, Concatenate\n",
    "from tensorflow.keras.preprocessing.image import ImageDataGenerator\n",
    "from tensorflow.keras import backend as K\n",
    "from sklearn.utils import shuffle\n",
    "from tensorflow.keras import models\n",
    "\n",
    "# Inference using CPU\n",
    "os.environ['CUDA_VISIBLE_DEVICES'] = '-1'"
   ],
   "metadata": {
    "collapsed": false,
    "pycharm": {
     "name": "#%%\n"
    }
   }
  },
  {
   "cell_type": "markdown",
   "source": [
    "## Intervertebral Disc Segmentation\n",
    "### Image Dataset Loader (2D)\n",
    "\n",
    "* Dataset Loader by using opencv. Loader by using keras ImageDataGenerator will be worked soon.\n",
    "* As Preprocessing finished, dataset will be saved as Numpy Compressed format (npz)\n"
   ],
   "metadata": {
    "collapsed": false
   }
  },
  {
   "cell_type": "code",
   "execution_count": null,
   "outputs": [],
   "source": [
    "test_loaded = np.load('./Dataset/testset_256.npz')\n",
    "\n",
    "# best_model_path = './models/Unet-256_256_32-Nadam_1e-4-diceloss-relu-he-batch_32-epoch.01.hdf5'\n",
    "# test_loaded = np.load('./Dataset/testset_256.npz')\n",
    "# print(validation_input.shape)\n",
    "# validation_input = np.expand_dims(test_loaded['dataset'][0,:,:,:], axis=0)\n",
    "\n",
    "validation_input = test_loaded['dataset']\n",
    "validation_label = test_loaded['label']\n",
    "\n",
    "print(validation_input.shape, validation_label.shape)\n",
    "\n"
   ],
   "metadata": {
    "collapsed": false,
    "pycharm": {
     "name": "#%%\n"
    }
   }
  },
  {
   "cell_type": "markdown",
   "source": [
    "## Main"
   ],
   "metadata": {
    "collapsed": false,
    "pycharm": {
     "name": "#%% md\n"
    }
   }
  },
  {
   "cell_type": "code",
   "execution_count": null,
   "outputs": [],
   "source": [
    "## Custom callback functions\n",
    "# IoU\n",
    "def iou_coef(y_true, y_pred, smooth=1):\n",
    "    intersection = K.sum(K.abs(y_true * y_pred), axis=[1, 2, 3])\n",
    "    union = K.sum(y_true, [1, 2, 3]) + K.sum(y_pred, [1, 2, 3]) - intersection\n",
    "    iou = K.mean((intersection + smooth) / (union + smooth), axis=0)\n",
    "    return iou\n",
    "\n",
    "\n",
    "# Dice score\n",
    "def dice_coef(y_true, y_pred):\n",
    "    # print(y_true.shape, y_pred.shape)\n",
    "    y_true_f = K.flatten(y_true)\n",
    "    y_pred_f = K.flatten(y_pred)\n",
    "    intersection = K.sum(y_true_f * y_pred_f)\n",
    "    return (2. * intersection + K.epsilon()) / (K.sum(y_true_f) + K.sum(y_pred_f) + K.epsilon())\n",
    "\n",
    "\n",
    "def dice_coef_loss(y_true, y_pred):\n",
    "    return 1 - dice_coef(y_true, y_pred)\n",
    "\n",
    "\n",
    "\n",
    "## inference run function\n",
    "def run_inference(array, model_path):\n",
    "    best_model_path = model_path\n",
    "    validation_input = np.squeeze(array, axis=0) # (576, 576)\n",
    "    validation_input = np.squeeze(validation_input, axis=-1) # (576, 576)\n",
    "    org_shape = np.squeeze(validation_input.shape)\n",
    "    validation_input = cv2.resize(src=validation_input, dsize=(192, 192), interpolation=cv2.INTER_AREA)\n",
    "    validation_input = (validation_input - np.min(validation_input))/np.max(validation_input) * 255\n",
    "    validation_input = np.expand_dims(validation_input, axis=0)\n",
    "    validation_input = np.expand_dims(validation_input, axis=-1)\n",
    "\n",
    "    new_model = models.load_model(best_model_path, custom_objects={'iou_coef':iou_coef, 'dice_coef':dice_coef, 'dice_coef_loss':dice_coef_loss})\n",
    "    new_model.summary()\n",
    "    pred = new_model.predict(validation_input)\n",
    "    pred_image = pred[:, :, :, 1] * 255\n",
    "    pred_image = np.squeeze(pred_image, axis=0) # (576, 576)\n",
    "    pred_image = cv2.resize(src=pred_image, dsize=(org_shape[0], org_shape[1]), interpolation=cv2.INTER_AREA)\n",
    "    return np.uint8(pred_image)\n",
    "\n",
    "\n",
    "## run for each file\n",
    "## And save ground truth file, prediction file, overlapped with original file saving as image file using CV2\n",
    "model_path = './models/Unet-192_192_32-Nadam_1e-4-diceloss-relu-he-batch_32-epoch.40.hdf5'\n",
    "for slice in range(validation_input.shape[0]):\n",
    "    vinput = np.expand_dims(validation_input[slice,:,:,:], axis=0)\n",
    "    n_ar = (vinput - np.min(vinput)) / np.max(vinput) * 255\n",
    "    array_image = np.expand_dims(vinput, axis=-1)\n",
    "    pred = run_inference(array_image, model_path)\n",
    "    gt_img = validation_label[slice, :, :, 1] * 255\n",
    "    gt_sp = './res/gt1/' + str(slice) + '.png'\n",
    "    pr_sp = './res/pr1/' + str(slice) + '.png'\n",
    "    ov_sp = './res/ov1/' + str(slice) + '.png'\n",
    "    if not os.path.exists(os.path.dirname(gt_sp)):\n",
    "        os.makedirs(os.path.dirname(gt_sp))\n",
    "    if not os.path.exists(os.path.dirname(pr_sp)):\n",
    "        os.makedirs(os.path.dirname(pr_sp))\n",
    "    if not os.path.exists(os.path.dirname(ov_sp)):\n",
    "        os.makedirs(os.path.dirname(ov_sp))\n",
    "\n",
    "    cv2.imwrite(gt_sp, gt_img)\n",
    "    cv2.imwrite(pr_sp, pred)\n",
    "\n",
    "    label = pred\n",
    "    test_image = np.squeeze(vinput)\n",
    "    pred_image = label\n",
    "    pred_image = np.expand_dims(pred_image, axis=0)\n",
    "    pred_image = np.expand_dims(pred_image, axis=3)\n",
    "    G = np.zeros([1, 256, 256, 1])\n",
    "    B = np.zeros([1, 256, 256, 1])\n",
    "    R = pred_image\n",
    "    pred_image = np.concatenate((B, G, R), axis=3)\n",
    "    pred_image = np.squeeze(pred_image)\n",
    "    test_image = np.expand_dims(test_image, axis=0)\n",
    "    test_image = np.expand_dims(test_image, axis=3)\n",
    "    tR = test_image\n",
    "    tG = test_image\n",
    "    tB = test_image\n",
    "    test_image = np.concatenate((tB, tG, tR), axis=3)\n",
    "    test_image = np.squeeze(test_image)\n",
    "    test_image = test_image.astype(float)\n",
    "    w = 40\n",
    "    p = 0.0001\n",
    "    result = cv2.addWeighted(pred_image, float(100 - w) * p, test_image, float(w) * p, 0) * 255\n",
    "    cv2.imwrite(ov_sp, result)\n",
    "    print('Ground Truth saved at {}'.format(gt_sp))\n",
    "    print('Predict Result saved at {}'.format(pr_sp))\n",
    "    print('Overlapped Img saved at {}'.format(ov_sp))\n",
    "    print()"
   ],
   "metadata": {
    "collapsed": false,
    "pycharm": {
     "name": "#%%\n"
    }
   }
  }
 ],
 "metadata": {
  "kernelspec": {
   "display_name": "Python 3",
   "language": "python",
   "name": "python3"
  },
  "language_info": {
   "codemirror_mode": {
    "name": "ipython",
    "version": 2
   },
   "file_extension": ".py",
   "mimetype": "text/x-python",
   "name": "python",
   "nbconvert_exporter": "python",
   "pygments_lexer": "ipython2",
   "version": "2.7.6"
  },
  "pycharm": {
   "stem_cell": {
    "cell_type": "raw",
    "source": [],
    "metadata": {
     "collapsed": false
    }
   }
  }
 },
 "nbformat": 4,
 "nbformat_minor": 0
}